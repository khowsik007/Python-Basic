{
 "cells": [
  {
   "cell_type": "markdown",
   "metadata": {},
   "source": [
    "### 1.checking for palindrome"
   ]
  },
  {
   "cell_type": "code",
   "execution_count": 1,
   "metadata": {},
   "outputs": [
    {
     "name": "stdout",
     "output_type": "stream",
     "text": [
      "The given word 'rotor' is a palindrome\n"
     ]
    }
   ],
   "source": [
    "def is_palindrome(word):\n",
    "    return word == word[::-1]\n",
    "string = input(\"Enter a string : \")\n",
    "if is_palindrome(string):\n",
    "    print(f\"The given word '{string}' is a palindrome\")\n",
    "else:\n",
    "    print(f\"The given word '{string}' is not a palindrome\")\n"
   ]
  },
  {
   "cell_type": "markdown",
   "metadata": {},
   "source": [
    "### 2.checking odd or even"
   ]
  },
  {
   "cell_type": "code",
   "execution_count": 9,
   "metadata": {},
   "outputs": [
    {
     "name": "stdout",
     "output_type": "stream",
     "text": [
      "88 is an even number\n"
     ]
    }
   ],
   "source": [
    "def odd_even(a):\n",
    "    if a%2==0:\n",
    "        print(f\"{a} is an even number\")\n",
    "    else:\n",
    "        print(f\"{a} is an odd number\")\n",
    "a = int(input(\"enter the number:\"))\n",
    "odd_even(a)"
   ]
  },
  {
   "cell_type": "code",
   "execution_count": 17,
   "metadata": {},
   "outputs": [
    {
     "name": "stdout",
     "output_type": "stream",
     "text": [
      "1 is an odd number\n",
      "23 is an odd number\n",
      "4 is an even number\n",
      "5 is an odd number\n",
      "6 is an even number\n",
      "2 is an even number\n",
      "7 is an odd number\n",
      "8 is an even number\n",
      "10 is an even number\n",
      "The odd Numbers are : [1, 23, 5, 7] and total no of odd numbers = 4\n",
      "-------------------\n",
      "The even Numbers are : [4, 6, 2, 8, 10] and total no of even numbers = 5\n"
     ]
    }
   ],
   "source": [
    "# to check odd or even in a list\n",
    "odd_numbers = []\n",
    "even_numbers = []\n",
    "def odd_even(a):\n",
    "    for i in a:\n",
    "        if i%2==0:\n",
    "            even_numbers.append(i)\n",
    "            print(f\"{i} is an even number\")\n",
    "        else:\n",
    "            odd_numbers.append(i)\n",
    "            print(f\"{i} is an odd number\")\n",
    "a = [1,23,4,5,6,2,7,8,10]\n",
    "odd_even(a)\n",
    "print(f\"The odd Numbers are : {odd_numbers} and total no of odd numbers = {len(odd_numbers)}\")\n",
    "print(\"-------------------\")\n",
    "print(f\"The even Numbers are : {even_numbers} and total no of even numbers = {len(even_numbers)}\")"
   ]
  },
  {
   "cell_type": "markdown",
   "metadata": {},
   "source": [
    "### 3. Fibonacci sequence"
   ]
  },
  {
   "cell_type": "code",
   "execution_count": 6,
   "metadata": {},
   "outputs": [
    {
     "name": "stdout",
     "output_type": "stream",
     "text": [
      "[0, 1, 1, 2, 3, 5, 8, 13, 21, 34]\n"
     ]
    }
   ],
   "source": [
    "def Fibonacci(n):\n",
    "    fibo = []\n",
    "    a,b = 0,1\n",
    "    for i in range(n):\n",
    "        fibo.append(a)\n",
    "        a,b = b,a+b\n",
    "    return fibo\n",
    "print(Fibonacci(10))\n"
   ]
  },
  {
   "cell_type": "markdown",
   "metadata": {},
   "source": [
    "### 4. reverse a string using a loop"
   ]
  },
  {
   "cell_type": "code",
   "execution_count": 13,
   "metadata": {},
   "outputs": [
    {
     "data": {
      "text/plain": [
       "'odlanoR'"
      ]
     },
     "execution_count": 13,
     "metadata": {},
     "output_type": "execute_result"
    }
   ],
   "source": [
    "def reversed_word(s):\n",
    "    reversed = \"\"\n",
    "    for i in s:\n",
    "        reversed = i+reversed\n",
    "    return reversed\n",
    "word = \"Ronaldo\"\n",
    "reversed_word(word)\n"
   ]
  },
  {
   "cell_type": "markdown",
   "metadata": {},
   "source": [
    "### 5.count vowels and consonants"
   ]
  },
  {
   "cell_type": "code",
   "execution_count": 34,
   "metadata": {},
   "outputs": [
    {
     "name": "stdout",
     "output_type": "stream",
     "text": [
      "vowels count = 3,consonants_count = 4\n",
      "vowel words = ['o', 'a', 'o'] ,consonants_words = ['r', 'n', 'l', 'd']\n"
     ]
    }
   ],
   "source": [
    "def vowels_and_consonants_count(w):\n",
    "    vowels = \"aeiouAEIOU\"\n",
    "    vowels_count = 0\n",
    "    consonants_count = 0\n",
    "    vowels_word = []\n",
    "    consonants_word = []\n",
    "    for i in word:\n",
    "        if i.isalpha():\n",
    "            if i in vowels:\n",
    "                vowels_count +=1\n",
    "                vowels_word.append(i)\n",
    "            else:\n",
    "                consonants_count +=1\n",
    "                consonants_word.append(i)\n",
    "    return f\"vowels count = {vowels_count},consonants_count = {consonants_count}\\nvowel words = {vowels_word} ,consonants_words = {consonants_word}\"\n",
    "word = \"ronaldo\"\n",
    "print(vowels_and_consonants_count(word))\n",
    "\n",
    "\n"
   ]
  },
  {
   "cell_type": "markdown",
   "metadata": {},
   "source": [
    "### 6. remove duplicates in a string"
   ]
  },
  {
   "cell_type": "code",
   "execution_count": 42,
   "metadata": {},
   "outputs": [
    {
     "name": "stdout",
     "output_type": "stream",
     "text": [
      "unique words are: ['m', 'e', 's', 'i'] \n",
      "repeated words are: ['s']\n"
     ]
    }
   ],
   "source": [
    "a = input(\"Enter the string\")\n",
    "b = []\n",
    "repeated_word = []\n",
    "for i in a: \n",
    "    if i not in b:\n",
    "        b.append(i)\n",
    "    else:\n",
    "        repeated_word.append(i)\n",
    "print(f\"unique words are: {b} \\nrepeated words are: {repeated_word}\")"
   ]
  },
  {
   "cell_type": "markdown",
   "metadata": {},
   "source": [
    "### 7. find maximum and minimum numbers in list"
   ]
  },
  {
   "cell_type": "code",
   "execution_count": 14,
   "metadata": {},
   "outputs": [
    {
     "name": "stdout",
     "output_type": "stream",
     "text": [
      "maximum number in a list: 5000 \n",
      "minimum number in a list: -15\n"
     ]
    }
   ],
   "source": [
    "def max_min(x):\n",
    "    max_no = x[0]\n",
    "    min_no = x[0]\n",
    "    for i in x:\n",
    "        if i > max_no:\n",
    "            max_no= i\n",
    "        elif i < min_no:\n",
    "            min_no = i\n",
    "    return f\"maximum number in a list: {max_no} \\nminimum number in a list: {min_no}\"\n",
    "number = [22,35,45,78,12,45,-15,5000]\n",
    "print(max_min(number))"
   ]
  },
  {
   "cell_type": "markdown",
   "metadata": {},
   "source": [
    "### 8. Pattern programs "
   ]
  },
  {
   "cell_type": "code",
   "execution_count": 23,
   "metadata": {},
   "outputs": [
    {
     "name": "stdout",
     "output_type": "stream",
     "text": [
      "* * * * \n",
      "* * * * \n",
      "* * * * \n",
      "* * * * \n"
     ]
    }
   ],
   "source": [
    "# 1. Square pattern\n",
    "n = 4\n",
    "for i in range(n):\n",
    "    for j in range(n):\n",
    "        print(\"*\",end=' ')\n",
    "    print()"
   ]
  },
  {
   "cell_type": "code",
   "execution_count": 28,
   "metadata": {},
   "outputs": [
    {
     "name": "stdout",
     "output_type": "stream",
     "text": [
      "* \n",
      "* * \n",
      "* * * \n",
      "* * * * \n",
      "* * * * * \n"
     ]
    }
   ],
   "source": [
    "# 2. increasing triangle\n",
    "n = 5\n",
    "for i in range(n):\n",
    "    for j in range(i+1):\n",
    "        print(\"*\",end = ' ')\n",
    "    print()"
   ]
  },
  {
   "cell_type": "code",
   "execution_count": 42,
   "metadata": {},
   "outputs": [
    {
     "name": "stdout",
     "output_type": "stream",
     "text": [
      "* * * * * \n",
      "* * * * \n",
      "* * * \n",
      "* * \n",
      "* \n"
     ]
    }
   ],
   "source": [
    "#3.decreasing triangle\n",
    "n = 5\n",
    "for i in range(n):\n",
    "    for j in range(i,n):\n",
    "        print(\"*\",end = ' ')\n",
    "    print()"
   ]
  },
  {
   "cell_type": "code",
   "execution_count": 1,
   "metadata": {},
   "outputs": [
    {
     "name": "stdout",
     "output_type": "stream",
     "text": [
      "          * \n",
      "        * * * \n",
      "      * * * * * \n",
      "    * * * * * * * \n",
      "  * * * * * * * * * \n"
     ]
    }
   ],
   "source": [
    "# 4. triangle\n",
    "n = 5\n",
    "for i in range(n):\n",
    "    for j in range(i,n):\n",
    "        print(' ',end = ' ')\n",
    "    for j in range(i):\n",
    "        print('*',end = ' ')\n",
    "    for j in range(i+1):\n",
    "        print('*',end = ' ')\n",
    "    print()"
   ]
  },
  {
   "cell_type": "code",
   "execution_count": 2,
   "metadata": {},
   "outputs": [
    {
     "name": "stdout",
     "output_type": "stream",
     "text": [
      "  * * * * * * * * * \n",
      "    * * * * * * * \n",
      "      * * * * * \n",
      "        * * * \n",
      "          * \n"
     ]
    }
   ],
   "source": [
    "# 5.inverse triangle\n",
    "n = 5\n",
    "for i in range(n):\n",
    "    for j in range(i+1):\n",
    "        print(' ',end = ' ')\n",
    "    for j in range(i,n-1):\n",
    "        print('*',end = ' ')\n",
    "    for j in range(i,n):\n",
    "        print('*',end = ' ')\n",
    "    print()"
   ]
  },
  {
   "cell_type": "code",
   "execution_count": 3,
   "metadata": {},
   "outputs": [
    {
     "name": "stdout",
     "output_type": "stream",
     "text": [
      "sum of a,b = 7\n"
     ]
    }
   ],
   "source": [
    "def Add(a,b):\n",
    "    return a+b\n",
    "Addition = Add(2,5)\n",
    "print('sum of a,b =',Addition)\n"
   ]
  },
  {
   "cell_type": "code",
   "execution_count": 2,
   "metadata": {},
   "outputs": [
    {
     "name": "stdout",
     "output_type": "stream",
     "text": [
      "sub of(3, 2)= 1\n"
     ]
    }
   ],
   "source": [
    "def Sub(a,b):\n",
    "    print(f'sub of{a,b}= {a-b}')\n",
    "Sub(3,2)"
   ]
  },
  {
   "cell_type": "code",
   "execution_count": 7,
   "metadata": {},
   "outputs": [
    {
     "data": {
      "text/plain": [
       "'my car Audi is beautiful'"
      ]
     },
     "execution_count": 7,
     "metadata": {},
     "output_type": "execute_result"
    }
   ],
   "source": [
    "def car(name='Audi'):\n",
    "    return f'my car {name} is beautiful'\n",
    "car()"
   ]
  },
  {
   "cell_type": "code",
   "execution_count": 4,
   "metadata": {},
   "outputs": [
    {
     "name": "stdout",
     "output_type": "stream",
     "text": [
      "<class 'function'>\n"
     ]
    }
   ],
   "source": [
    "print(type(car))"
   ]
  },
  {
   "cell_type": "code",
   "execution_count": 11,
   "metadata": {},
   "outputs": [
    {
     "name": "stdout",
     "output_type": "stream",
     "text": [
      "Square of 5 = 25\n"
     ]
    }
   ],
   "source": [
    "square = lambda x:x*x\n",
    "print(f\"Square of {5} = {square(5)}\")\n"
   ]
  },
  {
   "cell_type": "code",
   "execution_count": 14,
   "metadata": {},
   "outputs": [
    {
     "name": "stdout",
     "output_type": "stream",
     "text": [
      "7\n"
     ]
    }
   ],
   "source": [
    "add = lambda a,b:a+b\n",
    "print(add(2,5))"
   ]
  },
  {
   "cell_type": "code",
   "execution_count": null,
   "metadata": {},
   "outputs": [
    {
     "name": "stdout",
     "output_type": "stream",
     "text": [
      "2\n",
      "4\n",
      "6\n",
      "8\n",
      "10\n"
     ]
    }
   ],
   "source": [
    "number = [1,2,3,4,5]\n",
    "result = map(lambda y:y*2,number)\n",
    "print(list(result))\n",
    "for i in result:\n",
    "    print(i)\n",
    "\n",
    "\n"
   ]
  },
  {
   "cell_type": "code",
   "execution_count": 38,
   "metadata": {},
   "outputs": [
    {
     "name": "stdout",
     "output_type": "stream",
     "text": [
      "[2, 4, 6, 8, 10]\n"
     ]
    }
   ],
   "source": [
    "number = [1,2,3,4,5]\n",
    "number2 = [1,2,3,4,5]\n",
    "add = map(lambda x,y:x+y,number,number2)\n",
    "print(list(add))"
   ]
  },
  {
   "cell_type": "markdown",
   "metadata": {},
   "source": [
    "### convert Temperature from Celsius to Fahrenheit using map function"
   ]
  },
  {
   "cell_type": "code",
   "execution_count": 39,
   "metadata": {},
   "outputs": [
    {
     "name": "stdout",
     "output_type": "stream",
     "text": [
      "[32.0, 50.0, 68.0, 86.0, 104.0, 122.0]\n"
     ]
    }
   ],
   "source": [
    "celsius = [0,10,20,30,40,50]\n",
    "fahrenheit = map(lambda c:(c*9/5)+32,celsius)\n",
    "print(list(fahrenheit))"
   ]
  },
  {
   "cell_type": "markdown",
   "metadata": {},
   "source": [
    "#### Filter function"
   ]
  },
  {
   "cell_type": "code",
   "execution_count": 44,
   "metadata": {},
   "outputs": [
    {
     "name": "stdout",
     "output_type": "stream",
     "text": [
      "[2, 4, 6, 8, 10]\n",
      "[1, 3, 5, 7, 9]\n"
     ]
    }
   ],
   "source": [
    "number = [1,2,3,4,5,6,7,8,9,10]\n",
    "even = filter(lambda x: x%2 == 0,number)\n",
    "odd = filter(lambda x: x%2 != 0,number)\n",
    "print(list(even))\n",
    "print(list(odd))"
   ]
  },
  {
   "cell_type": "markdown",
   "metadata": {},
   "source": [
    "### Filtering Words Longer Than 5 Letters"
   ]
  },
  {
   "cell_type": "code",
   "execution_count": 45,
   "metadata": {},
   "outputs": [
    {
     "name": "stdout",
     "output_type": "stream",
     "text": [
      "['banana', 'watermelon', 'carrot']\n"
     ]
    }
   ],
   "source": [
    "fruits = ['Apple','banana','watermelon','carrot','lemon']\n",
    "len_words = filter(lambda word: len(word) > 5,fruits)\n",
    "print(list(len_words))"
   ]
  },
  {
   "cell_type": "markdown",
   "metadata": {},
   "source": [
    "### Class"
   ]
  },
  {
   "cell_type": "code",
   "execution_count": 5,
   "metadata": {},
   "outputs": [
    {
     "name": "stdout",
     "output_type": "stream",
     "text": [
      "My name is Ronaldo and I am 40 years old,am from Portugal.\n",
      "My name is Messi and I am 37 years old,am from Argentina.\n"
     ]
    }
   ],
   "source": [
    "class Person:\n",
    "    def __init__(self,name,age,city):\n",
    "        self.name = name\n",
    "        self.age = age\n",
    "        self.city = city\n",
    "\n",
    "    def info(self):\n",
    "        print(f\"My name is {self.name} and I am {self.age} years old,am from {self.city}.\")\n",
    "\n",
    "person1 = Person('Ronaldo',40,'Portugal')\n",
    "person2 = Person('Messi',37,'Argentina')\n",
    "\n",
    "person1.info()\n",
    "person2.info()\n",
    "            "
   ]
  },
  {
   "cell_type": "code",
   "execution_count": 20,
   "metadata": {},
   "outputs": [
    {
     "name": "stdout",
     "output_type": "stream",
     "text": [
      "Car brand is Toyota Innova and year is 2022 and price = 150000\n",
      "My car speed is 240 km/hr.\n"
     ]
    }
   ],
   "source": [
    "class Car:\n",
    "    def __init__(self,brand,year,price):\n",
    "        self.brand = brand\n",
    "        self.year = year\n",
    "        self.price = price\n",
    "\n",
    "    def car1(self):\n",
    "        print(f\"Car brand is {self.brand} and year is {self.year} and price = {self.price}\")\n",
    "    def speed(self,speed):\n",
    "        self.speed  = speed\n",
    "        print(f\"My car speed is {self.speed}\")\n",
    "\n",
    "obj = Car('Toyota Innova',2022,150000)\n",
    "obj.car1()\n",
    "obj.speed('240 km/hr.')"
   ]
  },
  {
   "cell_type": "markdown",
   "metadata": {},
   "source": [
    "### Abstraction and Encapsulation"
   ]
  },
  {
   "cell_type": "code",
   "execution_count": 4,
   "metadata": {},
   "outputs": [
    {
     "name": "stdout",
     "output_type": "stream",
     "text": [
      "\n",
      "        1.Display Books\n",
      "        2.Borrow Books\n",
      "        3.Return Books\n",
      "        \n",
      "Avialable Books are\n",
      "English\n",
      "Maths\n",
      "Tamil\n",
      "Science\n",
      "History\n",
      "\n",
      "        1.Display Books\n",
      "        2.Borrow Books\n",
      "        3.Return Books\n",
      "        \n",
      "Get your book now\n",
      "\n",
      "        1.Display Books\n",
      "        2.Borrow Books\n",
      "        3.Return Books\n",
      "        \n",
      "Avialable Books are\n",
      "English\n",
      "Tamil\n",
      "Science\n",
      "History\n",
      "\n",
      "        1.Display Books\n",
      "        2.Borrow Books\n",
      "        3.Return Books\n",
      "        \n",
      "****Thank you***\n"
     ]
    }
   ],
   "source": [
    "class Library():\n",
    "    def __init__(self,books):\n",
    "        self.books = books\n",
    "    def book_list(self):\n",
    "        print(\"Avialable Books are\")\n",
    "        for book in self.books:\n",
    "            print(book)\n",
    "    def borrow_book(self,book_borrow):\n",
    "        #self.book_borrow = book_borrow\n",
    "        if book_borrow in self.books:\n",
    "            print(\"Get your book now\")\n",
    "            self.books.remove(book_borrow)\n",
    "        else:\n",
    "            print(\"Your book is currently not avialable!!\")\n",
    "    def recieve_book(self,book_recieve):\n",
    "        self.book_recieve = book_recieve\n",
    "        print(\"Your book is recieved~\")\n",
    "        self.books.append(book_recieve)\n",
    "\n",
    "book = ['English','Maths','Tamil','Science','History']\n",
    "obj = Library(book)\n",
    "\n",
    "message = '''\n",
    "        1.Display Books\n",
    "        2.Borrow Books\n",
    "        3.Return Books\n",
    "        '''\n",
    "while True:\n",
    "    print(message)\n",
    "    choice = int(input('Please your choice :'))\n",
    "    if choice == 1:\n",
    "        obj.book_list()\n",
    "    elif choice == 2:\n",
    "        book_name = input('Enter the book name to borrow to borrow')\n",
    "        obj.borrow_book(book_name)\n",
    "    elif choice == 3:\n",
    "        return_book = input('Enter the book to return')\n",
    "        obj.recieve_book(return_book)\n",
    "    else:\n",
    "        print('****Thank you***')\n",
    "        break\n",
    "\n",
    "\n",
    "\n",
    "\n",
    "            "
   ]
  },
  {
   "cell_type": "code",
   "execution_count": null,
   "metadata": {},
   "outputs": [],
   "source": []
  }
 ],
 "metadata": {
  "kernelspec": {
   "display_name": "base",
   "language": "python",
   "name": "python3"
  },
  "language_info": {
   "codemirror_mode": {
    "name": "ipython",
    "version": 3
   },
   "file_extension": ".py",
   "mimetype": "text/x-python",
   "name": "python",
   "nbconvert_exporter": "python",
   "pygments_lexer": "ipython3",
   "version": "3.11.7"
  }
 },
 "nbformat": 4,
 "nbformat_minor": 2
}
