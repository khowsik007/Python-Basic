{
 "cells": [
  {
   "cell_type": "markdown",
   "metadata": {},
   "source": [
    "### 1.checking for palindrome"
   ]
  },
  {
   "cell_type": "code",
   "execution_count": 1,
   "metadata": {},
   "outputs": [
    {
     "name": "stdout",
     "output_type": "stream",
     "text": [
      "The given word 'radar' is a palindrome\n"
     ]
    }
   ],
   "source": [
    "def is_palindrome(word):\n",
    "    return word == word[::-1]\n",
    "string = input(\"Enter a string : \")\n",
    "if is_palindrome(string):\n",
    "    print(f\"The given word '{string}' is a palindrome\")\n",
    "else:\n",
    "    print(f\"The given word '{string}' is not a palindrome\")\n"
   ]
  },
  {
   "cell_type": "markdown",
   "metadata": {},
   "source": [
    "### 2.checking odd or even"
   ]
  },
  {
   "cell_type": "code",
   "execution_count": 2,
   "metadata": {},
   "outputs": [
    {
     "name": "stdout",
     "output_type": "stream",
     "text": [
      "25 is an odd number\n"
     ]
    }
   ],
   "source": [
    "def odd_even(a):\n",
    "    if a%2==0:\n",
    "        print(f\"{a} is an even number\")\n",
    "    else:\n",
    "        print(f\"{a} is an odd number\")\n",
    "a = int(input(\"enter the number:\"))\n",
    "odd_even(a)"
   ]
  },
  {
   "cell_type": "code",
   "execution_count": 17,
   "metadata": {},
   "outputs": [
    {
     "name": "stdout",
     "output_type": "stream",
     "text": [
      "1 is an odd number\n",
      "23 is an odd number\n",
      "4 is an even number\n",
      "5 is an odd number\n",
      "6 is an even number\n",
      "2 is an even number\n",
      "7 is an odd number\n",
      "8 is an even number\n",
      "10 is an even number\n",
      "The odd Numbers are : [1, 23, 5, 7] and total no of odd numbers = 4\n",
      "-------------------\n",
      "The even Numbers are : [4, 6, 2, 8, 10] and total no of even numbers = 5\n"
     ]
    }
   ],
   "source": [
    "# to check odd or even in a list\n",
    "odd_numbers = []\n",
    "even_numbers = []\n",
    "def odd_even(a):\n",
    "    for i in a:\n",
    "        if i%2==0:\n",
    "            even_numbers.append(i)\n",
    "            print(f\"{i} is an even number\")\n",
    "        else:\n",
    "            odd_numbers.append(i)\n",
    "            print(f\"{i} is an odd number\")\n",
    "a = [1,23,4,5,6,2,7,8,10]\n",
    "odd_even(a)\n",
    "print(f\"The odd Numbers are : {odd_numbers} and total no of odd numbers = {len(odd_numbers)}\")\n",
    "print(\"-------------------\")\n",
    "print(f\"The even Numbers are : {even_numbers} and total no of even numbers = {len(even_numbers)}\")"
   ]
  },
  {
   "cell_type": "markdown",
   "metadata": {},
   "source": [
    "### 3. Fibonacci sequence"
   ]
  },
  {
   "cell_type": "code",
   "execution_count": 6,
   "metadata": {},
   "outputs": [
    {
     "name": "stdout",
     "output_type": "stream",
     "text": [
      "[0, 1, 1, 2, 3, 5, 8, 13, 21, 34]\n"
     ]
    }
   ],
   "source": [
    "def Fibonacci(n):\n",
    "    fibo = []\n",
    "    a,b = 0,1\n",
    "    for i in range(n):\n",
    "        fibo.append(a)\n",
    "        a,b = b,a+b\n",
    "    return fibo\n",
    "print(Fibonacci(10))\n"
   ]
  },
  {
   "cell_type": "markdown",
   "metadata": {},
   "source": [
    "### 4. reverse a string using a loop"
   ]
  },
  {
   "cell_type": "code",
   "execution_count": 13,
   "metadata": {},
   "outputs": [
    {
     "data": {
      "text/plain": [
       "'odlanoR'"
      ]
     },
     "execution_count": 13,
     "metadata": {},
     "output_type": "execute_result"
    }
   ],
   "source": [
    "def reversed_word(s):\n",
    "    reversed = \"\"\n",
    "    for i in s:\n",
    "        reversed = i+reversed\n",
    "    return reversed\n",
    "word = \"Ronaldo\"\n",
    "reversed_word(word)\n"
   ]
  },
  {
   "cell_type": "markdown",
   "metadata": {},
   "source": [
    "### 5.count vowels and consonants"
   ]
  },
  {
   "cell_type": "code",
   "execution_count": 34,
   "metadata": {},
   "outputs": [
    {
     "name": "stdout",
     "output_type": "stream",
     "text": [
      "vowels count = 3,consonants_count = 4\n",
      "vowel words = ['o', 'a', 'o'] ,consonants_words = ['r', 'n', 'l', 'd']\n"
     ]
    }
   ],
   "source": [
    "def vowels_and_consonants_count(w):\n",
    "    vowels = \"aeiouAEIOU\"\n",
    "    vowels_count = 0\n",
    "    consonants_count = 0\n",
    "    vowels_word = []\n",
    "    consonants_word = []\n",
    "    for i in word:\n",
    "        if i.isalpha():\n",
    "            if i in vowels:\n",
    "                vowels_count +=1\n",
    "                vowels_word.append(i)\n",
    "            else:\n",
    "                consonants_count +=1\n",
    "                consonants_word.append(i)\n",
    "    return f\"vowels count = {vowels_count},consonants_count = {consonants_count}\\nvowel words = {vowels_word} ,consonants_words = {consonants_word}\"\n",
    "word = \"ronaldo\"\n",
    "print(vowels_and_consonants_count(word))\n",
    "\n",
    "\n"
   ]
  },
  {
   "cell_type": "markdown",
   "metadata": {},
   "source": [
    "### 6. remove duplicates in a string"
   ]
  },
  {
   "cell_type": "code",
   "execution_count": 42,
   "metadata": {},
   "outputs": [
    {
     "name": "stdout",
     "output_type": "stream",
     "text": [
      "unique words are: ['m', 'e', 's', 'i'] \n",
      "repeated words are: ['s']\n"
     ]
    }
   ],
   "source": [
    "a = input(\"Enter the string\")\n",
    "b = []\n",
    "repeated_word = []\n",
    "for i in a: \n",
    "    if i not in b:\n",
    "        b.append(i)\n",
    "    else:\n",
    "        repeated_word.append(i)\n",
    "print(f\"unique words are: {b} \\nrepeated words are: {repeated_word}\")"
   ]
  },
  {
   "cell_type": "markdown",
   "metadata": {},
   "source": [
    "### 7. find maximum and minimum numbers in list"
   ]
  },
  {
   "cell_type": "code",
   "execution_count": 14,
   "metadata": {},
   "outputs": [
    {
     "name": "stdout",
     "output_type": "stream",
     "text": [
      "maximum number in a list: 5000 \n",
      "minimum number in a list: -15\n"
     ]
    }
   ],
   "source": [
    "def max_min(x):\n",
    "    max_no = x[0]\n",
    "    min_no = x[0]\n",
    "    for i in x:\n",
    "        if i > max_no:\n",
    "            max_no= i\n",
    "        elif i < min_no:\n",
    "            min_no = i\n",
    "    return f\"maximum number in a list: {max_no} \\nminimum number in a list: {min_no}\"\n",
    "number = [22,35,45,78,12,45,-15,5000]\n",
    "print(max_min(number))"
   ]
  },
  {
   "cell_type": "markdown",
   "metadata": {},
   "source": [
    "### 8.Write a program to find the factorial of a number using a loop"
   ]
  },
  {
   "cell_type": "code",
   "execution_count": 22,
   "metadata": {},
   "outputs": [
    {
     "name": "stdout",
     "output_type": "stream",
     "text": [
      "factorial of a 5! = 120\n"
     ]
    }
   ],
   "source": [
    "def factorial(n):\n",
    "    if n<0:\n",
    "        return \"negative numbers have no factorial\"\n",
    "    elif n == 0 or n==1:\n",
    "        return 1\n",
    "    else:\n",
    "        return n*factorial(n-1)\n",
    "number = int(input(\"Enter the Number : \"))\n",
    "\n",
    "print(f\"factorial of a {number}! = {factorial(number)}\")"
   ]
  },
  {
   "cell_type": "markdown",
   "metadata": {},
   "source": [
    "### 9. To find Prime numbers"
   ]
  },
  {
   "cell_type": "code",
   "execution_count": 36,
   "metadata": {},
   "outputs": [
    {
     "name": "stdout",
     "output_type": "stream",
     "text": [
      "Given Number '5' is  True \n",
      "----------------------------------\n",
      "The prime numbers from 10 to 20 are:\n",
      "11 13 17 19 "
     ]
    }
   ],
   "source": [
    "def is_prime(n):\n",
    "    if n<2:\n",
    "        return False\n",
    "    for i in range(2,n):\n",
    "        if n % i == 0:\n",
    "            return False\n",
    "    return True\n",
    "num = int(input(\"Enter the number : \"))\n",
    "print(f\"Given Number '{num}' is  {is_prime(num)} \")\n",
    "print(\"----------------------------------\")\n",
    "\n",
    "start_no = int(input(\"Enter the start number : \"))\n",
    "end_no = int(input(\"Enter the end number : \"))\n",
    "print(f\"The prime numbers from {start_no} to {end_no} are:\")\n",
    "for j in range(start_no, end_no+1):\n",
    "    if is_prime(j):\n",
    "        print(j,end=\" \")\n",
    "\n",
    "    "
   ]
  },
  {
   "cell_type": "markdown",
   "metadata": {},
   "source": [
    "### 10.Merging two dictionaries"
   ]
  },
  {
   "cell_type": "code",
   "execution_count": 46,
   "metadata": {},
   "outputs": [
    {
     "name": "stdout",
     "output_type": "stream",
     "text": [
      "{'a': 1, 'b': 3, 'c': 4}\n"
     ]
    }
   ],
   "source": [
    "dict1 = {'a':1,\n",
    "         'b':2}\n",
    "dict2 = {\n",
    "        'b':3,\n",
    "        'c':4\n",
    "}\n",
    "dict1.update(dict2)\n",
    "print(dict1)"
   ]
  },
  {
   "cell_type": "code",
   "execution_count": 1,
   "metadata": {},
   "outputs": [
    {
     "ename": "ModuleNotFoundError",
     "evalue": "No module named 'cv2'",
     "output_type": "error",
     "traceback": [
      "\u001b[1;31m---------------------------------------------------------------------------\u001b[0m",
      "\u001b[1;31mModuleNotFoundError\u001b[0m                       Traceback (most recent call last)",
      "Cell \u001b[1;32mIn[1], line 1\u001b[0m\n\u001b[1;32m----> 1\u001b[0m \u001b[38;5;28;01mimport\u001b[39;00m \u001b[38;5;21;01mcv2\u001b[39;00m\n\u001b[0;32m      2\u001b[0m video_path \u001b[38;5;241m=\u001b[39m \u001b[38;5;124mr\u001b[39m\u001b[38;5;124m\"\u001b[39m\u001b[38;5;124mC:\u001b[39m\u001b[38;5;124m\\\u001b[39m\u001b[38;5;124mUsers\u001b[39m\u001b[38;5;124m\\\u001b[39m\u001b[38;5;124mKHOWSIK\u001b[39m\u001b[38;5;124m\\\u001b[39m\u001b[38;5;124mDownloads\u001b[39m\u001b[38;5;124m\\\u001b[39m\u001b[38;5;124m6 AM _ Film Riot - One Minute Short Contest.mp4\u001b[39m\u001b[38;5;124m\"\u001b[39m\n\u001b[0;32m      3\u001b[0m cap \u001b[38;5;241m=\u001b[39m cv2\u001b[38;5;241m.\u001b[39mVideoCapture(video_path)\n",
      "\u001b[1;31mModuleNotFoundError\u001b[0m: No module named 'cv2'"
     ]
    }
   ],
   "source": [
    "import cv2\n",
    "video_path = r\"C:\\Users\\KHOWSIK\\Downloads\\6 AM _ Film Riot - One Minute Short Contest.mp4\"\n",
    "cap = cv2.VideoCapture(video_path)\n",
    "\n",
    "while True:\n",
    "  suc,frame = cap.read()\n",
    "  cv2.imshow('frame',frame)\n",
    "  if cv2.waitKey(1) & 0xFF == ord(\"-\"):\n",
    "    break\n",
    "\n",
    "cap.release()\n",
    "cv2.destroyAllWindows()"
   ]
  },
  {
   "cell_type": "code",
   "execution_count": null,
   "metadata": {},
   "outputs": [],
   "source": [
    "import cv2\n"
   ]
  }
 ],
 "metadata": {
  "kernelspec": {
   "display_name": "base",
   "language": "python",
   "name": "python3"
  },
  "language_info": {
   "codemirror_mode": {
    "name": "ipython",
    "version": 3
   },
   "file_extension": ".py",
   "mimetype": "text/x-python",
   "name": "python",
   "nbconvert_exporter": "python",
   "pygments_lexer": "ipython3",
   "version": "3.11.7"
  }
 },
 "nbformat": 4,
 "nbformat_minor": 2
}
